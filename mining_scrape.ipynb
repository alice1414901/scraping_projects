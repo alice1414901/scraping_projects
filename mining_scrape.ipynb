{
 "cells": [
  {
   "cell_type": "markdown",
   "id": "717bfea0-4e6a-42f0-8a69-e48e67f028be",
   "metadata": {},
   "source": [
    "# Funding awarded for coal tip remediation in Wales\n",
    "Simple web scraper to scrape an HTML table and turn it into a DataFrame"
   ]
  },
  {
   "cell_type": "markdown",
   "id": "a055fd37-ff7e-41ea-b7db-170ac5698db7",
   "metadata": {},
   "source": [
    "## Import dependencies "
   ]
  },
  {
   "cell_type": "code",
   "execution_count": 17,
   "id": "b190d35b-0826-438e-9415-0ce821e9f833",
   "metadata": {},
   "outputs": [],
   "source": [
    "import requests \n",
    "from bs4 import BeautifulSoup as bs\n",
    "import pandas as pd"
   ]
  },
  {
   "cell_type": "markdown",
   "id": "219f09c9-ed73-4047-bf08-a3098b9ffabe",
   "metadata": {},
   "source": [
    "## Load page "
   ]
  },
  {
   "cell_type": "code",
   "execution_count": 14,
   "id": "5119bb42-308a-4c9e-9c6d-662c5db329f6",
   "metadata": {},
   "outputs": [
    {
     "name": "stdout",
     "output_type": "stream",
     "text": [
      "Record funding for safety works at more than 130 coal tip sites across Wales | GOV.WALES\n"
     ]
    }
   ],
   "source": [
    "url = \"https://www.gov.wales/record-funding-safety-works-more-130-coal-tip-sites-across-wales\"\n",
    "r = requests.get(url)\n",
    "soup = bs(r.content, \"html.parser\")\n",
    "print(soup.title.text)"
   ]
  },
  {
   "cell_type": "markdown",
   "id": "24f0fe31-f08d-4eee-8a8a-9fe016d02ee3",
   "metadata": {},
   "source": [
    "## Find table"
   ]
  },
  {
   "cell_type": "code",
   "execution_count": 21,
   "id": "3b19782b-f74f-4aa0-a73d-db9371aea7fc",
   "metadata": {},
   "outputs": [],
   "source": [
    "table = soup.find(\"tbody\")"
   ]
  },
  {
   "cell_type": "code",
   "execution_count": 74,
   "id": "a7f7e59c-993f-47d6-a877-d077553b4992",
   "metadata": {},
   "outputs": [
    {
     "data": {
      "text/plain": [
       "[['Blaenau Gwent', '£1,997,100.00'],\n",
       " ['Bridgend', '£1,835,000.00'],\n",
       " ['Caerphilly', '£2,780,445.16'],\n",
       " ['Cardiff', '£110,000.00'],\n",
       " ['Merthyr', '£4,279,287.00'],\n",
       " ['Monmouth', '£16,157.00'],\n",
       " ['Neath Port Talbot', '£6,345,000.00'],\n",
       " ['NRW', '£2,298,739.00'],\n",
       " ['Rhondda Cynon Taf', '£11,493,605.00'],\n",
       " ['Torfaen', '£1,982,521.00'],\n",
       " ['Wrexham', '£823,928.93'],\n",
       " ['TOTAL', '£33,961,783.09']]"
      ]
     },
     "execution_count": 74,
     "metadata": {},
     "output_type": "execute_result"
    }
   ],
   "source": [
    "columns = table.find(\"tr\").find_all(\"td\") #extracting first row (headings)\n",
    "columns_list = [x.string for x in columns]\n",
    "columns_list\n",
    "\n",
    "table_rows = table.find_all(\"tr\")[1:] #skipping table head\n",
    "l =[]\n",
    "for tr in table_rows:\n",
    "    tds = tr.find_all(\"td\") \n",
    "    row = [td.string.strip() for td in tds] #extracting text\n",
    "    l.append(row)\n",
    "l"
   ]
  },
  {
   "cell_type": "markdown",
   "id": "34570916-da58-425f-92e7-3fcc52a183ec",
   "metadata": {},
   "source": [
    "## Data Frame & Data Cleaning\n",
    "Processing \"Total Award\" column to turn into float"
   ]
  },
  {
   "cell_type": "code",
   "execution_count": 83,
   "id": "2516cdc1-d423-4f68-969d-ba974efcdc3b",
   "metadata": {},
   "outputs": [
    {
     "data": {
      "text/html": [
       "<div>\n",
       "<style scoped>\n",
       "    .dataframe tbody tr th:only-of-type {\n",
       "        vertical-align: middle;\n",
       "    }\n",
       "\n",
       "    .dataframe tbody tr th {\n",
       "        vertical-align: top;\n",
       "    }\n",
       "\n",
       "    .dataframe thead th {\n",
       "        text-align: right;\n",
       "    }\n",
       "</style>\n",
       "<table border=\"1\" class=\"dataframe\">\n",
       "  <thead>\n",
       "    <tr style=\"text-align: right;\">\n",
       "      <th></th>\n",
       "      <th>Applicant</th>\n",
       "      <th>Total Award</th>\n",
       "    </tr>\n",
       "  </thead>\n",
       "  <tbody>\n",
       "    <tr>\n",
       "      <th>0</th>\n",
       "      <td>Blaenau Gwent</td>\n",
       "      <td>1997100.00</td>\n",
       "    </tr>\n",
       "    <tr>\n",
       "      <th>1</th>\n",
       "      <td>Bridgend</td>\n",
       "      <td>1835000.00</td>\n",
       "    </tr>\n",
       "    <tr>\n",
       "      <th>2</th>\n",
       "      <td>Caerphilly</td>\n",
       "      <td>2780445.16</td>\n",
       "    </tr>\n",
       "    <tr>\n",
       "      <th>3</th>\n",
       "      <td>Cardiff</td>\n",
       "      <td>110000.00</td>\n",
       "    </tr>\n",
       "    <tr>\n",
       "      <th>4</th>\n",
       "      <td>Merthyr</td>\n",
       "      <td>4279287.00</td>\n",
       "    </tr>\n",
       "    <tr>\n",
       "      <th>5</th>\n",
       "      <td>Monmouth</td>\n",
       "      <td>16157.00</td>\n",
       "    </tr>\n",
       "    <tr>\n",
       "      <th>6</th>\n",
       "      <td>Neath Port Talbot</td>\n",
       "      <td>6345000.00</td>\n",
       "    </tr>\n",
       "    <tr>\n",
       "      <th>7</th>\n",
       "      <td>NRW</td>\n",
       "      <td>2298739.00</td>\n",
       "    </tr>\n",
       "    <tr>\n",
       "      <th>8</th>\n",
       "      <td>Rhondda Cynon Taf</td>\n",
       "      <td>11493605.00</td>\n",
       "    </tr>\n",
       "    <tr>\n",
       "      <th>9</th>\n",
       "      <td>Torfaen</td>\n",
       "      <td>1982521.00</td>\n",
       "    </tr>\n",
       "    <tr>\n",
       "      <th>10</th>\n",
       "      <td>Wrexham</td>\n",
       "      <td>823928.93</td>\n",
       "    </tr>\n",
       "    <tr>\n",
       "      <th>11</th>\n",
       "      <td>TOTAL</td>\n",
       "      <td>33961783.09</td>\n",
       "    </tr>\n",
       "  </tbody>\n",
       "</table>\n",
       "</div>"
      ],
      "text/plain": [
       "            Applicant  Total Award\n",
       "0       Blaenau Gwent   1997100.00\n",
       "1            Bridgend   1835000.00\n",
       "2          Caerphilly   2780445.16\n",
       "3             Cardiff    110000.00\n",
       "4             Merthyr   4279287.00\n",
       "5            Monmouth     16157.00\n",
       "6   Neath Port Talbot   6345000.00\n",
       "7                 NRW   2298739.00\n",
       "8   Rhondda Cynon Taf  11493605.00\n",
       "9             Torfaen   1982521.00\n",
       "10            Wrexham    823928.93\n",
       "11              TOTAL  33961783.09"
      ]
     },
     "execution_count": 83,
     "metadata": {},
     "output_type": "execute_result"
    }
   ],
   "source": [
    "df = pd.DataFrame(l, columns= columns_list)\n",
    "df[\"Total Award\"] = df[\"Total Award\"].replace({'£': '', ',':''}, regex=True).astype(float)\n",
    "df.sort_values(\"Total Award\")\n",
    "df"
   ]
  }
 ],
 "metadata": {
  "kernelspec": {
   "display_name": "Python 3 (ipykernel)",
   "language": "python",
   "name": "python3"
  },
  "language_info": {
   "codemirror_mode": {
    "name": "ipython",
    "version": 3
   },
   "file_extension": ".py",
   "mimetype": "text/x-python",
   "name": "python",
   "nbconvert_exporter": "python",
   "pygments_lexer": "ipython3",
   "version": "3.11.7"
  }
 },
 "nbformat": 4,
 "nbformat_minor": 5
}
